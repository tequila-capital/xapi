{
 "cells": [
  {
   "cell_type": "code",
   "execution_count": null,
   "id": "fe5928ce",
   "metadata": {},
   "outputs": [],
   "source": [
    "import os\n",
    "\n",
    "import grpc\n",
    "import grpc_generated.utilities_pb2 as util\n",
    "import grpc_generated.utilities_pb2_grpc as util_grpc\n",
    "from dotenv import load_dotenv"
   ]
  },
  {
   "cell_type": "code",
   "execution_count": null,
   "id": "1026b141",
   "metadata": {},
   "outputs": [],
   "source": [
    "load_dotenv('../.env')\n",
    "\n",
    "server = os.getenv('SERVER')\n",
    "user = os.getenv('USER')\n",
    "domain = os.getenv('DOMAIN')\n",
    "password = os.getenv('PASSWORD')\n",
    "locale = os.getenv('LOCALE')\n",
    "account = os.getenv('ACCOUNT')\n",
    "route = os.getenv('ROUTE')\n",
    "port = os.getenv('PORT')\n",
    "\n",
    "# print(server)\n",
    "# print(user)\n",
    "# print(domain)\n",
    "# print(password)\n",
    "# print(locale)\n",
    "# print(account)\n",
    "# print(route)\n",
    "# print(port)\n"
   ]
  },
  {
   "cell_type": "code",
   "execution_count": null,
   "id": "0cbcd664",
   "metadata": {},
   "outputs": [],
   "source": [
    "with open('../resources/roots.pem', 'rb') as f:\n",
    "    cert = f.read()\n",
    "\n",
    "channel = grpc.secure_channel(\n",
    "    f'{server}:{port}', grpc.ssl_channel_credentials(root_certificates=cert)\n",
    ")\n",
    "\n",
    "util_stub = util_grpc.UtilityServicesStub(channel)\n",
    "connect_request = util.ConnectRequest(\n",
    "    UserName=user, Domain=domain, Password=password, Locale=locale\n",
    ")\n",
    "connect_response = util_stub.Connect(connect_request)\n",
    "print('Connect result: ', connect_response.Response)\n",
    "\n",
    "if connect_response.Response == 'success':\n",
    "    disconnect_response = util_stub.Disconnect(\n",
    "        util.DisconnectRequest(UserToken=connect_response.UserToken)\n",
    "    )\n",
    "    print('Disconnect result: ', disconnect_response.ServerResponse)"
   ]
  },
  {
   "cell_type": "code",
   "execution_count": null,
   "id": "d6e6b5f9",
   "metadata": {},
   "outputs": [],
   "source": [
    "transact_id = None\n",
    "new_password = 'newpwd'\n",
    "\n",
    "change_pwd_request = util.ChangePasswordSRPRequest(\n",
    "    TransactId=transact_id,\n",
    "    UserName=user,\n",
    "    Domain=domain,\n",
    "    OldPassword=password,\n",
    "    NewPassword=new_password,\n",
    "\n",
    ")\n",
    "\n",
    "change_pwd_response = util_stub.ChangePasswordSRP(change_pwd_request)"
   ]
  },
  {
   "cell_type": "code",
   "execution_count": null,
   "id": "5e488613",
   "metadata": {},
   "outputs": [],
   "source": [
    "change_pwd_response"
   ]
  }
 ],
 "metadata": {
  "kernelspec": {
   "display_name": ".venv",
   "language": "python",
   "name": "python3"
  },
  "language_info": {
   "codemirror_mode": {
    "name": "ipython",
    "version": 3
   },
   "file_extension": ".py",
   "mimetype": "text/x-python",
   "name": "python",
   "nbconvert_exporter": "python",
   "pygments_lexer": "ipython3",
   "version": "3.13.0"
  }
 },
 "nbformat": 4,
 "nbformat_minor": 5
}
